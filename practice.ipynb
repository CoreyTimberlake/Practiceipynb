{
  "nbformat": 4,
  "nbformat_minor": 0,
  "metadata": {
    "colab": {
      "provenance": []
    },
    "kernelspec": {
      "name": "python3",
      "display_name": "Python 3"
    },
    "language_info": {
      "name": "python"
    }
  },
  "cells": [
    {
      "cell_type": "code",
      "execution_count": 1,
      "metadata": {
        "id": "UNPE-39Et6h8"
      },
      "outputs": [],
      "source": [
        "Q1 = 'Welcome to EU!'\n",
        "Q2 = 1+1"
      ]
    }
  ]
}